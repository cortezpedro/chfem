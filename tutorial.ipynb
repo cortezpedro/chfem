{
 "cells": [
  {
   "cell_type": "code",
   "execution_count": 1,
   "metadata": {},
   "outputs": [
    {
     "name": "stdout",
     "output_type": "stream",
     "text": [
      "Collecting git+https://gitlab.com/cortezpedro/chfem_gpu.git@dev\n",
      "  Cloning https://gitlab.com/cortezpedro/chfem_gpu.git (to revision dev) to /tmp/pip-req-build-k6amz78d\n",
      "  Running command git clone --filter=blob:none --quiet https://gitlab.com/cortezpedro/chfem_gpu.git /tmp/pip-req-build-k6amz78d\n",
      "  Running command git checkout -b dev --track origin/dev\n",
      "  Switched to a new branch 'dev'\n",
      "  branch 'dev' set up to track 'origin/dev'.\n",
      "  Resolved https://gitlab.com/cortezpedro/chfem_gpu.git to commit 0da686ba68d2313d1e26deaebda55aa923d54db3\n",
      "  Preparing metadata (setup.py) ... \u001b[?25ldone\n",
      "\u001b[?25hCollecting wurlitzer\n",
      "^C\n",
      "\u001b[31mERROR: Operation cancelled by user\u001b[0m\u001b[31m\n",
      "\u001b[0mRequirement already satisfied: pyvista in /pscratch/sd/f/fsemerar/.conda/envs/chfem/lib/python3.12/site-packages (0.43.3)\n",
      "Requirement already satisfied: matplotlib>=3.0.1 in /pscratch/sd/f/fsemerar/.conda/envs/chfem/lib/python3.12/site-packages (from pyvista) (3.8.3)\n",
      "Requirement already satisfied: numpy>=1.21.0 in /pscratch/sd/f/fsemerar/.conda/envs/chfem/lib/python3.12/site-packages (from pyvista) (1.26.4)\n",
      "Requirement already satisfied: pillow in /pscratch/sd/f/fsemerar/.conda/envs/chfem/lib/python3.12/site-packages (from pyvista) (10.2.0)\n",
      "Requirement already satisfied: pooch in /pscratch/sd/f/fsemerar/.conda/envs/chfem/lib/python3.12/site-packages (from pyvista) (1.8.1)\n",
      "Requirement already satisfied: scooby>=0.5.1 in /pscratch/sd/f/fsemerar/.conda/envs/chfem/lib/python3.12/site-packages (from pyvista) (0.9.2)\n",
      "Requirement already satisfied: vtk in /pscratch/sd/f/fsemerar/.conda/envs/chfem/lib/python3.12/site-packages (from pyvista) (9.2.6)\n",
      "Requirement already satisfied: contourpy>=1.0.1 in /pscratch/sd/f/fsemerar/.conda/envs/chfem/lib/python3.12/site-packages (from matplotlib>=3.0.1->pyvista) (1.2.0)\n",
      "Requirement already satisfied: cycler>=0.10 in /pscratch/sd/f/fsemerar/.conda/envs/chfem/lib/python3.12/site-packages (from matplotlib>=3.0.1->pyvista) (0.12.1)\n",
      "Requirement already satisfied: fonttools>=4.22.0 in /pscratch/sd/f/fsemerar/.conda/envs/chfem/lib/python3.12/site-packages (from matplotlib>=3.0.1->pyvista) (4.49.0)\n",
      "Requirement already satisfied: kiwisolver>=1.3.1 in /pscratch/sd/f/fsemerar/.conda/envs/chfem/lib/python3.12/site-packages (from matplotlib>=3.0.1->pyvista) (1.4.5)\n",
      "Requirement already satisfied: packaging>=20.0 in /pscratch/sd/f/fsemerar/.conda/envs/chfem/lib/python3.12/site-packages (from matplotlib>=3.0.1->pyvista) (23.2)\n",
      "Requirement already satisfied: pyparsing>=2.3.1 in /pscratch/sd/f/fsemerar/.conda/envs/chfem/lib/python3.12/site-packages (from matplotlib>=3.0.1->pyvista) (3.1.1)\n",
      "Requirement already satisfied: python-dateutil>=2.7 in /pscratch/sd/f/fsemerar/.conda/envs/chfem/lib/python3.12/site-packages (from matplotlib>=3.0.1->pyvista) (2.9.0)\n",
      "Requirement already satisfied: platformdirs>=2.5.0 in /pscratch/sd/f/fsemerar/.conda/envs/chfem/lib/python3.12/site-packages (from pooch->pyvista) (4.2.0)\n",
      "Requirement already satisfied: requests>=2.19.0 in /pscratch/sd/f/fsemerar/.conda/envs/chfem/lib/python3.12/site-packages (from pooch->pyvista) (2.31.0)\n",
      "Requirement already satisfied: six>=1.5 in /pscratch/sd/f/fsemerar/.conda/envs/chfem/lib/python3.12/site-packages (from python-dateutil>=2.7->matplotlib>=3.0.1->pyvista) (1.16.0)\n",
      "Requirement already satisfied: charset-normalizer<4,>=2 in /pscratch/sd/f/fsemerar/.conda/envs/chfem/lib/python3.12/site-packages (from requests>=2.19.0->pooch->pyvista) (3.3.2)\n",
      "Requirement already satisfied: idna<4,>=2.5 in /pscratch/sd/f/fsemerar/.conda/envs/chfem/lib/python3.12/site-packages (from requests>=2.19.0->pooch->pyvista) (3.6)\n",
      "Requirement already satisfied: urllib3<3,>=1.21.1 in /pscratch/sd/f/fsemerar/.conda/envs/chfem/lib/python3.12/site-packages (from requests>=2.19.0->pooch->pyvista) (2.2.1)\n",
      "Requirement already satisfied: certifi>=2017.4.17 in /pscratch/sd/f/fsemerar/.conda/envs/chfem/lib/python3.12/site-packages (from requests>=2.19.0->pooch->pyvista) (2024.2.2)\n"
     ]
    }
   ],
   "source": [
    "!pip install git+https://gitlab.com/cortezpedro/chfem_gpu.git@dev\n",
    "!pip install wurlitzer # to capture output from c function in colab\n",
    "!pip install pyvista "
   ]
  },
  {
   "cell_type": "code",
   "execution_count": 2,
   "metadata": {},
   "outputs": [
    {
     "ename": "ModuleNotFoundError",
     "evalue": "No module named 'wurlitzer'",
     "output_type": "error",
     "traceback": [
      "\u001b[0;31m---------------------------------------------------------------------------\u001b[0m",
      "\u001b[0;31mModuleNotFoundError\u001b[0m                       Traceback (most recent call last)",
      "Cell \u001b[0;32mIn[2], line 4\u001b[0m\n\u001b[1;32m      2\u001b[0m \u001b[38;5;28;01mimport\u001b[39;00m \u001b[38;5;21;01mpyvista\u001b[39;00m \u001b[38;5;28;01mas\u001b[39;00m \u001b[38;5;21;01mpv\u001b[39;00m\n\u001b[1;32m      3\u001b[0m \u001b[38;5;28;01mimport\u001b[39;00m \u001b[38;5;21;01mnumpy\u001b[39;00m \u001b[38;5;28;01mas\u001b[39;00m \u001b[38;5;21;01mnp\u001b[39;00m\n\u001b[0;32m----> 4\u001b[0m \u001b[38;5;28;01mfrom\u001b[39;00m \u001b[38;5;21;01mwurlitzer\u001b[39;00m \u001b[38;5;28;01mimport\u001b[39;00m pipes\n\u001b[1;32m      5\u001b[0m \u001b[38;5;28;01mimport\u001b[39;00m \u001b[38;5;21;01mchfem\u001b[39;00m\n",
      "\u001b[0;31mModuleNotFoundError\u001b[0m: No module named 'wurlitzer'"
     ]
    }
   ],
   "source": [
    "from matplotlib import pyplot as plt\n",
    "import pyvista as pv\n",
    "import numpy as np\n",
    "from wurlitzer import pipes\n",
    "import chfem"
   ]
  },
  {
   "cell_type": "code",
   "execution_count": null,
   "metadata": {},
   "outputs": [],
   "source": [
    "cube_size_a = 10\n",
    "array_size_a = 20\n",
    "\n",
    "def create_cube_array(array_side, cube_side, ntiles):\n",
    "    cube = np.zeros((array_side, array_side, array_side), dtype=np.uint8)\n",
    "    start_cube = array_size_a // 4\n",
    "    end_cube = start_cube + cube_side\n",
    "    cube[start_cube:end_cube, start_cube:end_cube, start_cube:end_cube] = 1\n",
    "    cube_array = np.tile(cube, (ntiles, ntiles, ntiles))\n",
    "    return cube_array\n",
    "\n",
    "left = create_cube_array(20, 10, 10)\n",
    "right = create_cube_array(40, 20, 5)\n",
    "array = np.concatenate((left, right), axis=0)"
   ]
  },
  {
   "cell_type": "code",
   "execution_count": null,
   "metadata": {},
   "outputs": [],
   "source": [
    "with pipes() as (out, err):\n",
    "  keff = chfem.compute_conductivity(array, mat_props=[(255, 1), (0, 0.1)], direction='x', output_fields=\"cubes\")\n",
    "print(out.read(), err.read())\n",
    "\n",
    "temperature = chfem.import_scalar_field_from_chfem(\"cubes_temperature_0.bin\", array.shape, False)\n",
    "plt.imshow(temperature[2])"
   ]
  },
  {
   "cell_type": "code",
   "execution_count": null,
   "metadata": {},
   "outputs": [],
   "source": [
    "with pipes() as (out, err):\n",
    "  Ceff = chfem.compute_elasticity(array, mat_props=[(255, 200, 0.2), (0, 100, 0.3)], direction='x', output_fields=\"cubes\") \n",
    "print(out.read(), err.read())\n",
    "\n",
    "displacement = chfem.import_vector_field_from_chfem(\"cubes_displacement_0.bin\", array.shape, False)\n",
    "plt.imshow(displacement[25, :, :, 0])"
   ]
  },
  {
   "cell_type": "code",
   "execution_count": null,
   "metadata": {},
   "outputs": [],
   "source": [
    "with pipes() as (out, err):\n",
    "  Keff = chfem.compute_permeability(array, direction='x', output_fields=\"cubes\")\n",
    "print(out.read(), err.read())\n",
    "\n",
    "pressure = chfem.import_scalar_field_from_chfem(\"cubes_pressure_0.bin\", array.shape, False)\n",
    "plt.imshow(pressure[50])"
   ]
  }
 ],
 "metadata": {
  "kernelspec": {
   "display_name": "chfem",
   "language": "python",
   "name": "python3"
  },
  "language_info": {
   "codemirror_mode": {
    "name": "ipython",
    "version": 3
   },
   "file_extension": ".py",
   "mimetype": "text/x-python",
   "name": "python",
   "nbconvert_exporter": "python",
   "pygments_lexer": "ipython3",
   "version": "3.12.2"
  }
 },
 "nbformat": 4,
 "nbformat_minor": 2
}
