{
 "cells": [
  {
   "cell_type": "code",
   "execution_count": null,
   "metadata": {},
   "outputs": [],
   "source": [
    "!pip install git+https://gitlab.com/cortezpedro/chfem_gpu.git@dev\n",
    "!pip install wurlitzer # to capture output from c function in colab\n",
    "!pip install pyvista "
   ]
  },
  {
   "cell_type": "code",
   "execution_count": null,
   "metadata": {},
   "outputs": [],
   "source": [
    "from matplotlib import pyplot as plt\n",
    "import pyvista as pv\n",
    "import numpy as np\n",
    "from wurlitzer import pipes\n",
    "import chfem"
   ]
  },
  {
   "cell_type": "code",
   "execution_count": null,
   "metadata": {},
   "outputs": [],
   "source": [
    "cube_size_a = 10\n",
    "array_size_a = 20\n",
    "\n",
    "def create_cube_array(array_side, cube_side, ntiles):\n",
    "    cube = np.zeros((array_side, array_side, array_side), dtype=np.uint8)\n",
    "    start_cube = array_size_a // 4\n",
    "    end_cube = start_cube + cube_side\n",
    "    cube[start_cube:end_cube, start_cube:end_cube, start_cube:end_cube] = 1\n",
    "    cube_array = np.tile(cube, (ntiles, ntiles, ntiles))\n",
    "    return cube_array\n",
    "\n",
    "left = create_cube_array(20, 10, 10)\n",
    "right = create_cube_array(40, 20, 5)\n",
    "array = np.concatenate((left, right), axis=0)"
   ]
  },
  {
   "cell_type": "code",
   "execution_count": null,
   "metadata": {},
   "outputs": [],
   "source": [
    "with pipes() as (out, err):\n",
    "  keff = chfem.compute_conductivity(array, mat_props=[(255, 1), (0, 0.1)], direction='x', output_fields=\"cubes\")\n",
    "print(out.read(), err.read())\n",
    "\n",
    "temperature = chfem.import_scalar_field_from_chfem(\"cubes_temperature_0.bin\", array.shape, False)\n",
    "plt.imshow(temperature[2])"
   ]
  },
  {
   "cell_type": "code",
   "execution_count": null,
   "metadata": {},
   "outputs": [],
   "source": [
    "with pipes() as (out, err):\n",
    "  Ceff = chfem.compute_elasticity(array, mat_props=[(255, 200, 0.2), (0, 100, 0.3)], direction='x', output_fields=\"cubes\") \n",
    "print(out.read(), err.read())\n",
    "\n",
    "displacement = chfem.import_vector_field_from_chfem(\"cubes_displacement_0.bin\", array.shape, False)\n",
    "plt.imshow(displacement[25, :, :, 0])"
   ]
  },
  {
   "cell_type": "code",
   "execution_count": null,
   "metadata": {},
   "outputs": [],
   "source": [
    "with pipes() as (out, err):\n",
    "  Keff = chfem.compute_permeability(array, direction='x', output_fields=\"cubes\")\n",
    "print(out.read(), err.read())\n",
    "\n",
    "pressure = chfem.import_scalar_field_from_chfem(\"cubes_pressure_0.bin\", array.shape, False)\n",
    "plt.imshow(pressure[50])"
   ]
  }
 ],
 "metadata": {
  "kernelspec": {
   "display_name": "chfem",
   "language": "python",
   "name": "python3"
  },
  "language_info": {
   "codemirror_mode": {
    "name": "ipython",
    "version": 3
   },
   "file_extension": ".py",
   "mimetype": "text/x-python",
   "name": "python",
   "nbconvert_exporter": "python",
   "pygments_lexer": "ipython3",
   "version": "3.12.2"
  }
 },
 "nbformat": 4,
 "nbformat_minor": 2
}
