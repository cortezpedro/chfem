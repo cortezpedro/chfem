{
  "cells": [
    {
      "cell_type": "markdown",
      "metadata": {},
      "source": [
        "# chfem Python API Tutorial"
      ]
    },
    {
      "cell_type": "code",
      "execution_count": null,
      "metadata": {},
      "outputs": [],
      "source": [
        "# install chfem\n",
        "!pip install git+https://gitlab.com/cortezpedro/chfem_gpu.git@dev -q\n",
        "\n",
        "# To enable c stdout printing in colab notebook\n",
        "!pip install wurlitzer -q\n",
        "import wurlitzer\n",
        "wurlitzer.Wurlitzer.flush_interval=0.001\n",
        "%load_ext wurlitzer\n",
        "\n",
        "# necessary for pyvista plots\n",
        "!pip install pyvista -q\n",
        "!pip install piglet -q\n",
        "!pip install pyvirtualdisplay -q\n",
        "!apt-get -qq install xvfb\n",
        "from pyvirtualdisplay import Display\n",
        "display = Display(visible=0, size=(600, 400))\n",
        "display.start()\n",
        "def pv_plot(array, cmap='jet', opacity=None):\n",
        "  grid = pv.ImageData()\n",
        "  grid.dimensions = ( array.shape[2], array.shape[1], array.shape[0] )\n",
        "  grid.point_data[\"scalars\"] = np.reshape( array, (array.size) )\n",
        "  plotter = pv.Plotter(notebook=True)\n",
        "  if opacity is None:\n",
        "    plotter.add_volume(grid, scalars=\"scalars\", cmap=cmap)\n",
        "  else:\n",
        "    plotter.add_volume(grid, scalars=\"scalars\", cmap=cmap, opacity=opacity)\n",
        "  plotter.show()\n",
        "\n",
        "# other imports\n",
        "from matplotlib import pyplot as plt\n",
        "import pyvista as pv\n",
        "import numpy as np\n",
        "import chfem"
      ]
    },
    {
      "cell_type": "code",
      "execution_count": null,
      "metadata": {},
      "outputs": [],
      "source": [
        "def create_cylinder(shape, radius, position, direction='z', clr=255, array=None):\n",
        "  if array is None:\n",
        "    array = np.zeros(shape,dtype='uint8')\n",
        "  if direction.lower() == 'x':\n",
        "    array = array.transpose(2,0,1) # x z y\n",
        "    return create_cylinder(array.shape,radius,position,'z',clr,array).transpose(1,2,0)\n",
        "  elif direction.lower() == 'y':\n",
        "    array = array.transpose(1,2,0) # y x z\n",
        "    return create_cylinder(array.shape,radius,position,'z',clr,array).transpose(2,0,1)\n",
        "  if not (direction.lower() == 'z'):\n",
        "    raise ValueError(f'unexpected direction: {direction}')\n",
        "  x,y = position\n",
        "  dy2_arr = np.power(np.arange(shape[1])-y+0.5,2.)\n",
        "  for xp in range( max(0,int(np.floor(x-radius))), min(int(np.ceil(x+radius)+1),shape[2]) ):\n",
        "    dist = np.sqrt( (xp+0.5-x)**2 + dy2_arr )\n",
        "    array[ 0, dist<=radius , xp ] = clr\n",
        "  array[1:,array[0]==clr]=clr\n",
        "  return array\n",
        "\n",
        "shape = (300,150,200) # (z,y,x) == (slices,rows,cols)\n",
        "array = create_cylinder(shape,20,(100,75),'z')\n",
        "array = create_cylinder(array.shape,20,(75,150),'x',array=array)\n",
        "array = create_cylinder(array.shape,20,(150,100),'y',array=array)\n",
        "\n",
        "pv_plot(array)"
      ]
    },
    {
      "cell_type": "code",
      "execution_count": null,
      "metadata": {},
      "outputs": [],
      "source": [
        "keff = chfem.compute_property('conductivity', array, mat_props={255: 1, 0: 0.1}, direction='x', output_fields=\"cubes\")\n",
        "\n",
        "temperature = chfem.import_scalar_field_from_chfem(\"cubes_temperature_0.bin\", array.shape)\n",
        "pv_plot(temperature)"
      ]
    },
    {
      "cell_type": "code",
      "execution_count": null,
      "metadata": {},
      "outputs": [],
      "source": [
        "Ceff = chfem.compute_property('elasticity', array, mat_props={255: (200, 0.2), 0: (100, 0.3)}, direction='x', output_fields=\"cubes\")\n",
        "\n",
        "displacement = chfem.import_vector_field_from_chfem(\"cubes_displacement_0.bin\", array.shape)\n",
        "pv_plot(displacement[0]) # x direction"
      ]
    },
    {
      "cell_type": "code",
      "execution_count": null,
      "metadata": {},
      "outputs": [],
      "source": [
        "def gaussian_opacity(img, sigma_multiplier=1., n=101):\n",
        "  mu = np.mean(img)\n",
        "  sigma = np.std(img)\n",
        "  sigma *= sigma_multiplier\n",
        "  return 1. - np.exp( -( np.linspace(np.min(img),np.max(img),n) -mu  )**2 / (2*sigma*sigma) )\n",
        "\n",
        "# making the phase in 255 be the pores\n",
        "if 255 in array:\n",
        "  array[array==0]=1\n",
        "  array[array==255]=0\n",
        "\n",
        "Keff = chfem.compute_property('permeability', array, direction='x', output_fields=\"cubes\")\n",
        "\n",
        "pressure = chfem.import_scalar_field_from_chfem(\"cubes_pressure_0.bin\", array.shape)\n",
        "pv_plot(pressure, opacity=gaussian_opacity(pressure))"
      ]
    }
  ],
  "metadata": {
    "accelerator": "GPU",
    "colab": {
      "gpuType": "T4",
      "provenance": []
    },
    "kernelspec": {
      "display_name": "Python 3",
      "name": "python3"
    },
    "language_info": {
      "codemirror_mode": {
        "name": "ipython",
        "version": 3
      },
      "file_extension": ".py",
      "mimetype": "text/x-python",
      "name": "python",
      "nbconvert_exporter": "python",
      "pygments_lexer": "ipython3",
      "version": "3.12.2"
    }
  },
  "nbformat": 4,
  "nbformat_minor": 0
}
