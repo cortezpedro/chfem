{
  "cells": [
    {
      "cell_type": "markdown",
      "metadata": {},
      "source": [
        "# chfem Python API Tutorial"
      ]
    },
    {
      "cell_type": "code",
      "execution_count": null,
      "metadata": {},
      "outputs": [],
      "source": [
        "# install chfem\n",
        "!pip install git+https://gitlab.com/cortezpedro/chfem_gpu.git@dev -q\n",
        "\n",
        "# To enable c stdout printing in colab notebook\n",
        "!pip install wurlitzer -q\n",
        "import wurlitzer\n",
        "wurlitzer.Wurlitzer.flush_interval=0.001\n",
        "%load_ext wurlitzer\n",
        "\n",
        "# necessary for pyvista plots\n",
        "!pip install pyvista -q\n",
        "!pip install piglet -q\n",
        "!pip install pyvirtualdisplay -q\n",
        "!apt-get -qq install xvfb\n",
        "from pyvirtualdisplay import Display\n",
        "display = Display(visible=0, size=(600, 400))\n",
        "display.start()\n",
        "def pv_plot(array):\n",
        "  grid = pv.ImageData()\n",
        "  grid.dimensions = array.shape\n",
        "  grid.point_data[\"scalars\"] = array.flatten(order=\"F\")\n",
        "  plotter = pv.Plotter(notebook=True)\n",
        "  plotter.add_volume(grid, scalars=\"scalars\", cmap=\"jet\")\n",
        "  plotter.show()\n",
        "\n",
        "# other imports\n",
        "from matplotlib import pyplot as plt\n",
        "import pyvista as pv\n",
        "import numpy as np\n",
        "import chfem"
      ]
    },
    {
      "cell_type": "code",
      "execution_count": null,
      "metadata": {
        "colab": {
          "base_uri": "https://localhost:8080/",
          "height": 892
        },
        "id": "xH90ZW9ZKdo8",
        "outputId": "4e1d5794-86d9-42a2-b496-94b75a309957"
      },
      "outputs": [],
      "source": [
        "def create_cube_array(array_side, cube_side, ntiles):\n",
        "    cube = np.zeros((array_side, array_side, array_side), dtype=np.uint8)\n",
        "    start_cube = array_side // 4\n",
        "    end_cube = start_cube + cube_side\n",
        "    cube[start_cube:end_cube, start_cube:end_cube, start_cube:end_cube] = 1\n",
        "    cube_array = np.tile(cube, (ntiles, ntiles, ntiles))\n",
        "    return cube_array\n",
        "\n",
        "left = create_cube_array(10, 5, 10)\n",
        "right = create_cube_array(20, 10, 5)\n",
        "array = np.concatenate((left, right), axis=0)\n",
        "array[array == 1] = 255\n",
        "\n",
        "pv_plot(array)"
      ]
    },
    {
      "cell_type": "code",
      "execution_count": null,
      "metadata": {
        "colab": {
          "base_uri": "https://localhost:8080/",
          "height": 1000
        },
        "id": "D4_EyHnUKdo8",
        "outputId": "1da5e0bc-e79d-40f3-afa7-d2ecb7674d39"
      },
      "outputs": [],
      "source": [
        "keff = chfem.compute_property('conductivity', array, mat_props={255: 1, 0: 0.1}, direction='x', output_fields=\"cubes\")\n",
        "\n",
        "temperature = chfem.import_scalar_field_from_chfem(\"cubes_temperature_0.bin\", array.shape, rotate_domain=True)\n",
        "pv_plot(temperature)"
      ]
    },
    {
      "cell_type": "code",
      "execution_count": null,
      "metadata": {
        "colab": {
          "base_uri": "https://localhost:8080/",
          "height": 1000
        },
        "id": "z0QN1Gx_Kdo9",
        "outputId": "ee490d32-8b57-498a-9915-37f58b3cc644"
      },
      "outputs": [],
      "source": [
        "Ceff = chfem.compute_property('elasticity', array, mat_props={255: (200, 0.2), 0: (100, 0.3)}, direction='x', output_fields=\"cubes\")\n",
        "\n",
        "displacement = chfem.import_vector_field_from_chfem(\"cubes_displacement_0.bin\", array.shape, rotate_domain=True)\n",
        "pv_plot(displacement[:, :, :, 0])"
      ]
    },
    {
      "cell_type": "code",
      "execution_count": null,
      "metadata": {
        "colab": {
          "base_uri": "https://localhost:8080/",
          "height": 1000
        },
        "id": "BLM_8Ng4Kdo9",
        "outputId": "19276b10-516e-44f8-f5f9-201510d546b1"
      },
      "outputs": [],
      "source": [
        "Keff = chfem.compute_property('permeability', array, direction='x', output_fields=\"cubes\")\n",
        "\n",
        "pressure = chfem.import_scalar_field_from_chfem(\"cubes_pressure_0.bin\", array.shape, rotate_domain=True)\n",
        "pv_plot(pressure)"
      ]
    }
  ],
  "metadata": {
    "accelerator": "GPU",
    "colab": {
      "gpuType": "T4",
      "provenance": []
    },
    "kernelspec": {
      "display_name": "Python 3",
      "name": "python3"
    },
    "language_info": {
      "codemirror_mode": {
        "name": "ipython",
        "version": 3
      },
      "file_extension": ".py",
      "mimetype": "text/x-python",
      "name": "python",
      "nbconvert_exporter": "python",
      "pygments_lexer": "ipython3",
      "version": "3.12.2"
    }
  },
  "nbformat": 4,
  "nbformat_minor": 0
}
